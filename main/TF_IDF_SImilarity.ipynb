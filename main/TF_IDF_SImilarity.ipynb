{
  "cells": [
    {
      "cell_type": "code",
      "source": [
        "pip install gradio\n"
      ],
      "metadata": {
        "colab": {
          "base_uri": "https://localhost:8080/"
        },
        "id": "dzIfDA2KbyaL",
        "outputId": "e8ca9f7c-1b59-4b8f-80e8-9c4e990a68e5"
      },
      "execution_count": null,
      "outputs": [
        {
          "output_type": "stream",
          "name": "stdout",
          "text": [
            "Requirement already satisfied: gradio in /usr/local/lib/python3.10/dist-packages (3.50.2)\n",
            "Requirement already satisfied: aiofiles<24.0,>=22.0 in /usr/local/lib/python3.10/dist-packages (from gradio) (23.2.1)\n",
            "Requirement already satisfied: altair<6.0,>=4.2.0 in /usr/local/lib/python3.10/dist-packages (from gradio) (4.2.2)\n",
            "Requirement already satisfied: fastapi in /usr/local/lib/python3.10/dist-packages (from gradio) (0.104.0)\n",
            "Requirement already satisfied: ffmpy in /usr/local/lib/python3.10/dist-packages (from gradio) (0.3.1)\n",
            "Requirement already satisfied: gradio-client==0.6.1 in /usr/local/lib/python3.10/dist-packages (from gradio) (0.6.1)\n",
            "Requirement already satisfied: httpx in /usr/local/lib/python3.10/dist-packages (from gradio) (0.25.0)\n",
            "Requirement already satisfied: huggingface-hub>=0.14.0 in /usr/local/lib/python3.10/dist-packages (from gradio) (0.18.0)\n",
            "Requirement already satisfied: importlib-resources<7.0,>=1.3 in /usr/local/lib/python3.10/dist-packages (from gradio) (6.1.0)\n",
            "Requirement already satisfied: jinja2<4.0 in /usr/local/lib/python3.10/dist-packages (from gradio) (3.1.2)\n",
            "Requirement already satisfied: markupsafe~=2.0 in /usr/local/lib/python3.10/dist-packages (from gradio) (2.1.3)\n",
            "Requirement already satisfied: matplotlib~=3.0 in /usr/local/lib/python3.10/dist-packages (from gradio) (3.7.1)\n",
            "Requirement already satisfied: numpy~=1.0 in /usr/local/lib/python3.10/dist-packages (from gradio) (1.23.5)\n",
            "Requirement already satisfied: orjson~=3.0 in /usr/local/lib/python3.10/dist-packages (from gradio) (3.9.9)\n",
            "Requirement already satisfied: packaging in /usr/local/lib/python3.10/dist-packages (from gradio) (23.2)\n",
            "Requirement already satisfied: pandas<3.0,>=1.0 in /usr/local/lib/python3.10/dist-packages (from gradio) (1.5.3)\n",
            "Requirement already satisfied: pillow<11.0,>=8.0 in /usr/local/lib/python3.10/dist-packages (from gradio) (9.4.0)\n",
            "Requirement already satisfied: pydantic!=1.8,!=1.8.1,!=2.0.0,!=2.0.1,<3.0.0,>=1.7.4 in /usr/local/lib/python3.10/dist-packages (from gradio) (1.10.13)\n",
            "Requirement already satisfied: pydub in /usr/local/lib/python3.10/dist-packages (from gradio) (0.25.1)\n",
            "Requirement already satisfied: python-multipart in /usr/local/lib/python3.10/dist-packages (from gradio) (0.0.6)\n",
            "Requirement already satisfied: pyyaml<7.0,>=5.0 in /usr/local/lib/python3.10/dist-packages (from gradio) (6.0.1)\n",
            "Requirement already satisfied: requests~=2.0 in /usr/local/lib/python3.10/dist-packages (from gradio) (2.31.0)\n",
            "Requirement already satisfied: semantic-version~=2.0 in /usr/local/lib/python3.10/dist-packages (from gradio) (2.10.0)\n",
            "Requirement already satisfied: typing-extensions~=4.0 in /usr/local/lib/python3.10/dist-packages (from gradio) (4.8.0)\n",
            "Requirement already satisfied: uvicorn>=0.14.0 in /usr/local/lib/python3.10/dist-packages (from gradio) (0.23.2)\n",
            "Requirement already satisfied: websockets<12.0,>=10.0 in /usr/local/lib/python3.10/dist-packages (from gradio) (11.0.3)\n",
            "Requirement already satisfied: fsspec in /usr/local/lib/python3.10/dist-packages (from gradio-client==0.6.1->gradio) (2023.6.0)\n",
            "Requirement already satisfied: entrypoints in /usr/local/lib/python3.10/dist-packages (from altair<6.0,>=4.2.0->gradio) (0.4)\n",
            "Requirement already satisfied: jsonschema>=3.0 in /usr/local/lib/python3.10/dist-packages (from altair<6.0,>=4.2.0->gradio) (4.19.1)\n",
            "Requirement already satisfied: toolz in /usr/local/lib/python3.10/dist-packages (from altair<6.0,>=4.2.0->gradio) (0.12.0)\n",
            "Requirement already satisfied: filelock in /usr/local/lib/python3.10/dist-packages (from huggingface-hub>=0.14.0->gradio) (3.12.4)\n",
            "Requirement already satisfied: tqdm>=4.42.1 in /usr/local/lib/python3.10/dist-packages (from huggingface-hub>=0.14.0->gradio) (4.66.1)\n",
            "Requirement already satisfied: contourpy>=1.0.1 in /usr/local/lib/python3.10/dist-packages (from matplotlib~=3.0->gradio) (1.1.1)\n",
            "Requirement already satisfied: cycler>=0.10 in /usr/local/lib/python3.10/dist-packages (from matplotlib~=3.0->gradio) (0.12.1)\n",
            "Requirement already satisfied: fonttools>=4.22.0 in /usr/local/lib/python3.10/dist-packages (from matplotlib~=3.0->gradio) (4.43.1)\n",
            "Requirement already satisfied: kiwisolver>=1.0.1 in /usr/local/lib/python3.10/dist-packages (from matplotlib~=3.0->gradio) (1.4.5)\n",
            "Requirement already satisfied: pyparsing>=2.3.1 in /usr/local/lib/python3.10/dist-packages (from matplotlib~=3.0->gradio) (3.1.1)\n",
            "Requirement already satisfied: python-dateutil>=2.7 in /usr/local/lib/python3.10/dist-packages (from matplotlib~=3.0->gradio) (2.8.2)\n",
            "Requirement already satisfied: pytz>=2020.1 in /usr/local/lib/python3.10/dist-packages (from pandas<3.0,>=1.0->gradio) (2023.3.post1)\n",
            "Requirement already satisfied: charset-normalizer<4,>=2 in /usr/local/lib/python3.10/dist-packages (from requests~=2.0->gradio) (3.3.0)\n",
            "Requirement already satisfied: idna<4,>=2.5 in /usr/local/lib/python3.10/dist-packages (from requests~=2.0->gradio) (3.4)\n",
            "Requirement already satisfied: urllib3<3,>=1.21.1 in /usr/local/lib/python3.10/dist-packages (from requests~=2.0->gradio) (2.0.7)\n",
            "Requirement already satisfied: certifi>=2017.4.17 in /usr/local/lib/python3.10/dist-packages (from requests~=2.0->gradio) (2023.7.22)\n",
            "Requirement already satisfied: click>=7.0 in /usr/local/lib/python3.10/dist-packages (from uvicorn>=0.14.0->gradio) (8.1.7)\n",
            "Requirement already satisfied: h11>=0.8 in /usr/local/lib/python3.10/dist-packages (from uvicorn>=0.14.0->gradio) (0.14.0)\n",
            "Requirement already satisfied: anyio<4.0.0,>=3.7.1 in /usr/local/lib/python3.10/dist-packages (from fastapi->gradio) (3.7.1)\n",
            "Requirement already satisfied: starlette<0.28.0,>=0.27.0 in /usr/local/lib/python3.10/dist-packages (from fastapi->gradio) (0.27.0)\n",
            "Requirement already satisfied: httpcore<0.19.0,>=0.18.0 in /usr/local/lib/python3.10/dist-packages (from httpx->gradio) (0.18.0)\n",
            "Requirement already satisfied: sniffio in /usr/local/lib/python3.10/dist-packages (from httpx->gradio) (1.3.0)\n",
            "Requirement already satisfied: exceptiongroup in /usr/local/lib/python3.10/dist-packages (from anyio<4.0.0,>=3.7.1->fastapi->gradio) (1.1.3)\n",
            "Requirement already satisfied: attrs>=22.2.0 in /usr/local/lib/python3.10/dist-packages (from jsonschema>=3.0->altair<6.0,>=4.2.0->gradio) (23.1.0)\n",
            "Requirement already satisfied: jsonschema-specifications>=2023.03.6 in /usr/local/lib/python3.10/dist-packages (from jsonschema>=3.0->altair<6.0,>=4.2.0->gradio) (2023.7.1)\n",
            "Requirement already satisfied: referencing>=0.28.4 in /usr/local/lib/python3.10/dist-packages (from jsonschema>=3.0->altair<6.0,>=4.2.0->gradio) (0.30.2)\n",
            "Requirement already satisfied: rpds-py>=0.7.1 in /usr/local/lib/python3.10/dist-packages (from jsonschema>=3.0->altair<6.0,>=4.2.0->gradio) (0.10.6)\n",
            "Requirement already satisfied: six>=1.5 in /usr/local/lib/python3.10/dist-packages (from python-dateutil>=2.7->matplotlib~=3.0->gradio) (1.16.0)\n"
          ]
        }
      ]
    },
    {
      "cell_type": "code",
      "execution_count": null,
      "metadata": {
        "id": "Ad-N9KMeHcsc"
      },
      "outputs": [],
      "source": [
        "\n",
        "\n",
        "def analyze_documents(folder_path,target_pdf,n):\n",
        "    import os\n",
        "    import json\n",
        "    import numpy as np\n",
        "    import nltk\n",
        "    from nltk.tokenize import word_tokenize\n",
        "    from nltk.corpus import stopwords as sw\n",
        "    from sklearn.feature_extraction.text import TfidfVectorizer\n",
        "    from sklearn.metrics.pairwise import cosine_similarity\n",
        "    from scipy.cluster.hierarchy import ward, dendrogram, fcluster, single, complete\n",
        "    import matplotlib.pyplot as plt\n",
        "\n",
        "    # Downloading required NLTK packages\n",
        "    nltk.download('punkt', quiet=True)\n",
        "    nltk.download('stopwords', quiet=True)\n",
        "\n",
        "\n",
        "\n",
        "    ### Nested functions:\n",
        "\n",
        "    #process input text\n",
        "    n = int(n)\n",
        "\n",
        "    # Processing the text data\n",
        "    def process_text(text):\n",
        "        tokens = word_tokenize(text)\n",
        "        stopwords = set(sw.words('english'))\n",
        "        tokens = [token for token in tokens if token.lower() not in stopwords]\n",
        "        return ' '.join(tokens)\n",
        "\n",
        "    # Function to get the top n similar documents\n",
        "    def get_top_n_similar_documents(index, similarity_matrix, n=5):\n",
        "        # Getting similarity values for the given document with all other documents\n",
        "        similarity_values = similarity_matrix[index]\n",
        "\n",
        "        # Sorting the indices based on similarity values in descending order\n",
        "        sorted_indices = np.argsort(similarity_values)[::-1]\n",
        "\n",
        "        # Excluding the first index because it will be the given document itself (similarity with itself is 1)\n",
        "        return sorted_indices[1:n+1]\n",
        "\n",
        "\n",
        "    file_list = os.listdir(folder_path)\n",
        "    # Creating list to hold documents' contents\n",
        "    documents = []\n",
        "\n",
        "    # Creating list to hold corresponding PDF filenames\n",
        "    pdf_file_list = []\n",
        "\n",
        "    # Loading the JSON files and extracting content\n",
        "    for file_name in file_list:\n",
        "        if file_name.endswith('.json'):                      # Checking if the file is a JSON file\n",
        "            with open(os.path.join(folder_path, file_name), 'r') as file:\n",
        "                data = json.load(file)\n",
        "                abstract = data.get(\"SHORT_ABSTRACT\", \"\")    # Using the information in the short abstract & title sections to represent the content of the documents\n",
        "                documents.append(process_text(abstract))\n",
        "                pdf_filename = data.get(\"pdf_files\", [None])[0]   # Getting the corresponding PDF filename\n",
        "                if pdf_filename:                             # Appendding the PDF filename to pdf_file_list\n",
        "                    pdf_file_list.append(pdf_filename)\n",
        "\n",
        "    vectorizer = TfidfVectorizer()                           # Using TF-IDF to vectorize the processed content\n",
        "    tfidf_matrix = vectorizer.fit_transform(documents)\n",
        "\n",
        "    # similarity_matrix[i][j] gives the cosine similarity between the i-th and j-th document\n",
        "    similarity_matrix = cosine_similarity(tfidf_matrix)\n",
        "\n",
        "    #produce hierarchical clustering and dendogram\n",
        "    dist = 1 - similarity_matrix\n",
        "    dist = dist - dist.min()\n",
        "    linkage_matrix = ward(dist)\n",
        "    #linkage_matrix = linkage(dist, method=\"single\")\n",
        "    #linkage_matrix = linkage(dist, method=\"complete\")\n",
        "\n",
        "    fig, ax = plt.subplots(figsize=(50,80))\n",
        "    ax = dendrogram(linkage_matrix, orientation=\"right\", leaf_font_size=6, labels=pdf_file_list)\n",
        "    plt.tick_params(axis='x', bottom='off', top='off', labelbottom='off')\n",
        "    plt.tight_layout() #show plot with tight layout\"\"\"\n",
        "\n",
        "    # Initialize an empty result string\n",
        "    result = \"\"\n",
        "\n",
        "    if target_pdf in pdf_file_list:\n",
        "        # Choosing a document index for the target PDF\n",
        "        document_index = pdf_file_list.index(target_pdf)\n",
        "\n",
        "        # Getting the top n similar document indices\n",
        "        top_n_indices = get_top_n_similar_documents(document_index, similarity_matrix, n)\n",
        "\n",
        "        # Append target PDF's SHORT_ABSTRACT to the result\n",
        "        result += f\"\\nTarget PDF's SHORT_ABSTRACT:\\n{documents[document_index]}\\n\"\n",
        "\n",
        "        # Append the top n similar documents to the result\n",
        "        result += f\"\\nTop {n} similar documents to {target_pdf} are:\\n\"\n",
        "        for i in top_n_indices:\n",
        "            result += f\"\\nPDF Name: {pdf_file_list[i]}\\nSHORT_ABSTRACT: {documents[i]}\\n\"\n",
        "    else:\n",
        "        result = f\"'{target_pdf}' not found in pdf_file_list.\"\n",
        "\n",
        "    return result\n",
        "\n",
        "\n",
        "\n"
      ]
    },
    {
      "cell_type": "code",
      "execution_count": null,
      "metadata": {
        "colab": {
          "base_uri": "https://localhost:8080/",
          "height": 660
        },
        "id": "tKHKvYelagTl",
        "outputId": "32ca0752-e29a-477c-dcbf-10c0d21b1019"
      },
      "outputs": [
        {
          "output_type": "stream",
          "name": "stderr",
          "text": [
            "<ipython-input-8-19dacc7acc41>:9: GradioUnusedKwargWarning: You have unused kwarg parameters in Number, please remove them: {'default': 3, 'min': 1, 'max': 100}\n",
            "  gr.Number(label=\"Please enter the number of top similar documents to retrieve:\", default=3, min=1, max=100, step=1)\n"
          ]
        },
        {
          "output_type": "stream",
          "name": "stdout",
          "text": [
            "Setting queue=True in a Colab notebook requires sharing enabled. Setting `share=True` (you can turn this off by setting `share=False` in `launch()` explicitly).\n",
            "\n",
            "Colab notebook detected. To show errors in colab notebook, set debug=True in launch()\n",
            "Running on public URL: https://cc58c26a50211ac64a.gradio.live\n",
            "\n",
            "This share link expires in 72 hours. For free permanent hosting and GPU upgrades, run `gradio deploy` from Terminal to deploy to Spaces (https://huggingface.co/spaces)\n"
          ]
        },
        {
          "output_type": "display_data",
          "data": {
            "text/plain": [
              "<IPython.core.display.HTML object>"
            ],
            "text/html": [
              "<div><iframe src=\"https://cc58c26a50211ac64a.gradio.live\" width=\"100%\" height=\"500\" allow=\"autoplay; camera; microphone; clipboard-read; clipboard-write;\" frameborder=\"0\" allowfullscreen></iframe></div>"
            ]
          },
          "metadata": {}
        },
        {
          "output_type": "execute_result",
          "data": {
            "text/plain": []
          },
          "metadata": {},
          "execution_count": 8
        }
      ],
      "source": [
        "import gradio as gr\n",
        "\n",
        "\n",
        "demo = gr.Interface(\n",
        "    fn=analyze_documents,\n",
        "    inputs=[\n",
        "        gr.Textbox(label=\"Please enter the folder path in local drive:\", placeholder=\"Enter Folder path\"),\n",
        "        gr.Textbox(label=\"Please enter the name of the target PDF:\", placeholder=\"Enter Filename\"),\n",
        "        gr.Number(label=\"Please enter the number of top similar documents to retrieve:\", default=3, min=1, max=100, step=1)\n",
        "    ],\n",
        "    outputs=gr.Textbox(label=\"Similar Files\"),\n",
        "    examples=[\n",
        "        [\"/content/drive/MyDrive/CITS5553_Group 5/wamex_metadata/subset_1\",\"a071228_051017_baldivis_minexpreport_10321296.pdf\", 3],[\"/content/drive/MyDrive/CITS5553_Group 5/wamex_metadata/subset_1\",\"a071874_700-100-go-rep-0005_11545981.pdf\", 3]],\n",
        "    title=\"Similarity Generator\"\n",
        ")\n",
        "\n",
        "demo.launch()"
      ]
    },
    {
      "cell_type": "code",
      "source": [],
      "metadata": {
        "id": "Q-RnemWVbw8q"
      },
      "execution_count": null,
      "outputs": []
    }
  ],
  "metadata": {
    "colab": {
      "provenance": []
    },
    "kernelspec": {
      "display_name": "Python 3",
      "name": "python3"
    },
    "language_info": {
      "codemirror_mode": {
        "name": "ipython",
        "version": 3
      },
      "file_extension": ".py",
      "mimetype": "text/x-python",
      "name": "python",
      "nbconvert_exporter": "python",
      "pygments_lexer": "ipython3",
      "version": "3.11.3"
    }
  },
  "nbformat": 4,
  "nbformat_minor": 0
}